{
 "cells": [
  {
   "cell_type": "markdown",
   "metadata": {},
   "source": [
    "Code to convert xml to csv\n"
   ]
  },
  {
   "cell_type": "code",
   "execution_count": 1,
   "metadata": {},
   "outputs": [
    {
     "ename": "AttributeError",
     "evalue": "'NoneType' object has no attribute 'text'",
     "output_type": "error",
     "traceback": [
      "\u001b[1;31m---------------------------------------------------------------------------\u001b[0m",
      "\u001b[1;31mAttributeError\u001b[0m                            Traceback (most recent call last)",
      "\u001b[1;32m<ipython-input-1-11fb798ab409>\u001b[0m in \u001b[0;36m<module>\u001b[1;34m\u001b[0m\n\u001b[0;32m      9\u001b[0m \u001b[0mroot\u001b[0m \u001b[1;33m=\u001b[0m \u001b[0mxmlparse\u001b[0m\u001b[1;33m.\u001b[0m\u001b[0mgetroot\u001b[0m\u001b[1;33m(\u001b[0m\u001b[1;33m)\u001b[0m\u001b[1;33m\u001b[0m\u001b[1;33m\u001b[0m\u001b[0m\n\u001b[0;32m     10\u001b[0m \u001b[1;32mfor\u001b[0m \u001b[0mi\u001b[0m \u001b[1;32min\u001b[0m \u001b[0mroot\u001b[0m\u001b[1;33m:\u001b[0m\u001b[1;33m\u001b[0m\u001b[1;33m\u001b[0m\u001b[0m\n\u001b[1;32m---> 11\u001b[1;33m     \u001b[0mFinInstrmGnlAttrbts\u001b[0m\u001b[1;33m.\u001b[0m\u001b[0mId\u001b[0m \u001b[1;33m=\u001b[0m \u001b[0mi\u001b[0m\u001b[1;33m.\u001b[0m\u001b[0mfind\u001b[0m\u001b[1;33m(\u001b[0m\u001b[1;34m\"FinInstrmGnlAttrbts.Id\"\u001b[0m\u001b[1;33m)\u001b[0m\u001b[1;33m.\u001b[0m\u001b[0mtext\u001b[0m\u001b[1;33m\u001b[0m\u001b[1;33m\u001b[0m\u001b[0m\n\u001b[0m\u001b[0;32m     12\u001b[0m     \u001b[0mFinInstrmGnlAttrbts\u001b[0m\u001b[1;33m.\u001b[0m\u001b[0mFullNm\u001b[0m \u001b[1;33m=\u001b[0m \u001b[0mi\u001b[0m\u001b[1;33m.\u001b[0m\u001b[0mfind\u001b[0m\u001b[1;33m(\u001b[0m\u001b[1;34m\"FinInstrmGnlAttrbts.FullNm\"\u001b[0m\u001b[1;33m)\u001b[0m\u001b[1;33m.\u001b[0m\u001b[0mtext\u001b[0m\u001b[1;33m\u001b[0m\u001b[1;33m\u001b[0m\u001b[0m\n\u001b[0;32m     13\u001b[0m     \u001b[0mFinInstrmGnlAttrbts\u001b[0m\u001b[1;33m.\u001b[0m\u001b[0mClssfctnTp\u001b[0m \u001b[1;33m=\u001b[0m \u001b[0mi\u001b[0m\u001b[1;33m.\u001b[0m\u001b[0mfind\u001b[0m\u001b[1;33m(\u001b[0m\u001b[1;34m\"FinInstrmGnlAttrbts.ClssfctnTp\"\u001b[0m\u001b[1;33m)\u001b[0m\u001b[1;33m.\u001b[0m\u001b[0mtext\u001b[0m\u001b[1;33m\u001b[0m\u001b[1;33m\u001b[0m\u001b[0m\n",
      "\u001b[1;31mAttributeError\u001b[0m: 'NoneType' object has no attribute 'text'"
     ]
    }
   ],
   "source": [
    "import xml.etree.ElementTree as Xet\n",
    "import pandas as pd\n",
    "\n",
    "cols = [\"FinInstrmGnlAttrbts.Id\", \"FinInstrmGnlAttrbts.FullNm\", \"FinInstrmGnlAttrbts.ClssfctnTp\", \"FinInstrmGnlAttrbts.CmmdtyDerivInd\", \"FinInstrmGnlAttrbts.NtnlCcy\", \"Issr\"]\n",
    "rows = []\n",
    "\n",
    "# Parsing the XML file\n",
    "xmlparse = Xet.parse('DLTINS_20210117_01of01.xml')\n",
    "root = xmlparse.getroot()\n",
    "for i in root:\n",
    "    FinInstrmGnlAttrbts.Id = i.find(\"FinInstrmGnlAttrbts.Id\").text\n",
    "    FinInstrmGnlAttrbts.FullNm = i.find(\"FinInstrmGnlAttrbts.FullNm\").text\n",
    "    FinInstrmGnlAttrbts.ClssfctnTp = i.find(\"FinInstrmGnlAttrbts.ClssfctnTp\").text\n",
    "    FinInstrmGnlAttrbts.CmmdtyDerivInd= i.find(\"FinInstrmGnlAttrbts.CmmdtyDerivInd\").text\n",
    "    FinInstrmGnlAttrbts.CmmdtyDerivInd= i.find(\"FinInstrmGnlAttrbts.CmmdtyDerivInd\").text\n",
    "    Issr = i.find(\"Issr\").text\n",
    "\n",
    "\n",
    "    rows.append({\"FinInstrmGnlAttrbts.Id\": FinInstrmGnlAttrbts.Id,\n",
    "                 \"FinInstrmGnlAttrbts.FullNm\": FinInstrmGnlAttrbts.FullNm,\n",
    "                 \"FinInstrmGnlAttrbts.ClssfctnTp\": FinInstrmGnlAttrbts.ClssfctnTp,\n",
    "                 \"FinInstrmGnlAttrbts.CmmdtyDerivInd\": FinInstrmGnlAttrbts.CmmdtyDerivInd,\n",
    "                 \"FinInstrmGnlAttrbts.NtnlCcy\": FinInstrmGnlAttrbts.NtnlCcy,\n",
    "                 \"Issr\": Issr\n",
    "                })\n",
    "\n",
    "df = pd.DataFrame(rows, columns=cols)\n",
    "\n",
    "# Writing dataframe to csv\n",
    "df.to_csv('output.csv')"
   ]
  }
 ],
 "metadata": {
  "kernelspec": {
   "display_name": "Python 3",
   "language": "python",
   "name": "python3"
  },
  "language_info": {
   "codemirror_mode": {
    "name": "ipython",
    "version": 3
   },
   "file_extension": ".py",
   "mimetype": "text/x-python",
   "name": "python",
   "nbconvert_exporter": "python",
   "pygments_lexer": "ipython3",
   "version": "3.8.3"
  }
 },
 "nbformat": 4,
 "nbformat_minor": 4
}
